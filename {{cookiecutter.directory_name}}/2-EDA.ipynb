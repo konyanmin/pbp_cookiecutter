{
 "cells": [
  {
   "cell_type": "markdown",
   "metadata": {},
   "source": [
    "## {{cookiecutter.project_name}}\n",
    "\n",
    "{{cookiecutter.description}}\n",
    "\n",
    "This notebook contains basic statistical analysis and visualization of the data.\n",
    "\n",
    "### Data Sources\n",
    "- summary : Processed file from notebook 1-Data_Prep\n",
    "\n",
    "### Changes\n",
    "- {% now 'utc', '%m-%d-%Y' %} : Started project"
   ]
  },
  {
   "cell_type": "code",
   "execution_count": null,
   "metadata": {},
   "outputs": [],
   "source": [
    "import numpy as np\n",
    "import pandas as pd\n",
    "from pathlib import Path\n",
    "from datetime import datetime\n",
    "import matplotlib.pyplot as plt"
   ]
  },
  {
   "cell_type": "code",
   "execution_count": null,
   "metadata": {},
   "outputs": [],
   "source": [
    "%matplotlib inline"
   ]
  },
  {
   "cell_type": "markdown",
   "metadata": {},
   "source": [
    "### File Locations"
   ]
  },
  {
   "cell_type": "code",
   "execution_count": null,
   "metadata": {},
   "outputs": [],
   "source": [
    "today = datetime.today()\n",
    "in_file = Path.cwd() / \"data\" / \"processed\" / f\"summary_{today:%b-%d-%Y}.pkl\"\n",
    "report_dir = Path.cwd() / \"reports\"\n",
    "report_file = report_dir / \"Excel_Analysis_{today:%b-%d-%Y}.xlsx\""
   ]
  },
  {
   "cell_type": "code",
   "execution_count": null,
   "metadata": {},
   "outputs": [],
   "source": [
    "df = pd.read_pickle(in_file)"
   ]
  },
  {
   "cell_type": "markdown",
   "metadata": {},
   "source": [
    "### Perform Data Analysis"
   ]
  },
  {
   "cell_type": "code",
   "execution_count": null,
   "metadata": {},
   "outputs": [],
   "source": [
    "def waterfall(df, x, y):\n",
    "\n",
    "    # calculate running totals\n",
    "    df['tot'] = df[y].cumsum()\n",
    "    df['tot1']=df['tot'].shift(1).fillna(0)\n",
    "\n",
    "    # lower and upper points for the bar charts\n",
    "    lower = df[['tot','tot1']].min(axis=1)\n",
    "    upper = df[['tot','tot1']].max(axis=1)\n",
    "\n",
    "    # mid-point for label position\n",
    "    mid = (lower + upper)/2\n",
    "\n",
    "    # positive number shows green, negative number shows red\n",
    "    df.loc[df[y] >= 0, 'color'] = 'green'\n",
    "    df.loc[df[y] < 0, 'color'] = 'red'\n",
    "\n",
    "    # calculate connection points\n",
    "    connect= df['tot1'].repeat(3).shift(-1)\n",
    "    connect.iloc[1::3] = np.nan\n",
    "\n",
    "    fig,ax = plt.subplots()\n",
    "\n",
    "    # plot first bar with colors\n",
    "    bars = ax.bar(x=df[x],height=upper, color =df['color'])\n",
    "\n",
    "    # plot second bar - invisible\n",
    "    plt.bar(x=df[x], height=lower,color='white')\n",
    "\n",
    "    # plot connectors\n",
    "    plt.plot(connect.index,connect.values, 'k' )\n",
    "\n",
    "    # plot bar labels\n",
    "    for i, v in enumerate(upper):\n",
    "        plt.text(i-.15, mid[i], f\"{df[y][i]:,.0f}\")\n",
    "\n",
    "    plt.xticks(rotation=90)\n"
   ]
  },
  {
   "cell_type": "markdown",
   "metadata": {},
   "source": [
    "### Save Excel file into reports directory\n",
    "\n",
    "Save an Excel file with intermediate results into the report directory"
   ]
  },
  {
   "cell_type": "code",
   "execution_count": null,
   "metadata": {},
   "outputs": [],
   "source": []
  }
 ],
 "metadata": {
  "kernelspec": {
   "display_name": "Python 3.9.13 ('work')",
   "language": "python",
   "name": "python3"
  },
  "language_info": {
   "codemirror_mode": {
    "name": "ipython",
    "version": 3
   },
   "file_extension": ".py",
   "mimetype": "text/x-python",
   "name": "python",
   "nbconvert_exporter": "python",
   "pygments_lexer": "ipython3",
   "version": "3.9.13"
  },
  "vscode": {
   "interpreter": {
    "hash": "7b6a9475d4be75e77c56eb5b6238c7c611650aaf702a40c494f6dd12bb889b0c"
   }
  }
 },
 "nbformat": 4,
 "nbformat_minor": 1
}
